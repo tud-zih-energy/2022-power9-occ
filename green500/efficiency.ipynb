{
 "cells": [
  {
   "cell_type": "code",
   "execution_count": null,
   "metadata": {},
   "outputs": [],
   "source": [
    "import pandas\n",
    "import seaborn as sn\n",
    "import matplotlib.pyplot as plt\n",
    "%matplotlib inline\n",
    "\n",
    "fontsize = 12\n",
    "plt.rcParams.update({\n",
    "    \"text.usetex\": True,\n",
    "    \"font.family\": \"serif\",\n",
    "    #\"font.serif\": \"Libertine\",\n",
    "    \"text.latex.preamble\": \"\\RequirePackage[tt=false, type1=true]{libertine}\",\n",
    "    \"font.size\": fontsize,\n",
    "    \"axes.titlesize\": fontsize,\n",
    "    \"axes.labelsize\": fontsize,\n",
    "    \"xtick.labelsize\": fontsize,\n",
    "    \"ytick.labelsize\": fontsize,\n",
    "    \"legend.fontsize\": fontsize,\n",
    "    \"legend.title_fontsize\": fontsize,\n",
    "})\n"
   ]
  },
  {
   "cell_type": "code",
   "execution_count": null,
   "metadata": {},
   "outputs": [],
   "source": [
    "df = pandas.read_excel(\"green500_top_202211.xlsx\")"
   ]
  },
  {
   "cell_type": "code",
   "execution_count": null,
   "metadata": {},
   "outputs": [],
   "source": [
    "list(df)"
   ]
  },
  {
   "cell_type": "code",
   "execution_count": null,
   "metadata": {},
   "outputs": [],
   "source": [
    "def has_accel(row):\n",
    "    if row[\"Accelerator/Co-Processor Cores\"] > 0:\n",
    "        return \"Heterogenous\\nsystems\"\n",
    "    else:\n",
    "        return \"Homogenous\\nsystems\"\n",
    "\n",
    "ibm_separate = False\n",
    "df[\"Architecture\"] = df.apply(has_accel, axis=1)\n",
    "\n",
    "def accel_vendor(row):\n",
    "    if row['Accelerator/Co-Processor'].startswith(\"AMD\"):\n",
    "        return \"AMD\"\n",
    "    elif ibm_separate and row['Processor Generation'] == \"IBM POWER9\":\n",
    "        return \"IBM POWER9\"    \n",
    "    elif row['Accelerator/Co-Processor'].startswith(\"NVIDIA\"):\n",
    "        return \"NVIDIA\"\n",
    "    elif row['Accelerator/Co-Processor'].startswith(\"Nvidia\"):\n",
    "        return \"NVIDIA\"\n",
    "    elif row['Accelerator/Co-Processor'].startswith(\"Intel\"):\n",
    "        return \"Intel\"\n",
    "    elif row[\"Accelerator/Co-Processor Cores\"] > 0:\n",
    "        return \"Other\"\n",
    "    else:\n",
    "        return \"None\"\n",
    "\n",
    "df[\"Accelerator Vendor\"] = df.apply(accel_vendor, axis=1)"
   ]
  },
  {
   "cell_type": "code",
   "execution_count": null,
   "metadata": {},
   "outputs": [],
   "source": [
    "f, ax = plt.subplots(figsize=(8, 3))\n",
    "\n",
    "sn.swarmplot(data=df, x=\"Energy Efficiency [GFlops/Watts]\", y='Architecture', hue=\"Year\")"
   ]
  },
  {
   "cell_type": "code",
   "execution_count": null,
   "metadata": {},
   "outputs": [],
   "source": [
    "f, ax = plt.subplots(figsize=(6, 4))\n",
    "\n",
    "vendor_colors = [\n",
    "    \"#76b900\",\n",
    "    \"#dd0031\",\n",
    "    \"orange\",\n",
    "    \"magenta\",\n",
    "    \"#555\",\n",
    "    \"#0071c5\"\n",
    "]\n",
    "\n",
    "if not ibm_separate:\n",
    "    vendor_colors.remove(\"magenta\")\n",
    "    \n",
    "sn.set_theme(style=\"ticks\", rc={\"ytick.left\": False, \"font.family\": \"serif\"})\n",
    "sn.boxplot(data=df, x=\"Energy Efficiency [GFlops/Watts]\", y='Architecture', fliersize=0, color=\"white\")\n",
    "fig = sn.stripplot(data=df, x=\"Energy Efficiency [GFlops/Watts]\", y='Architecture', hue=\"Accelerator Vendor\",\n",
    "              size=4, linewidth=0, palette=vendor_colors, legend=\"full\")\n",
    "ax.set_ylabel(\"\")\n",
    "ax.set_xlabel(\"Energy Efficiency (GFlops/W)\")\n",
    "sn.move_legend(fig, \"best\", labelspacing=0, fancybox=False, edgecolor=\"white\")\n",
    "\n",
    "\n",
    "# h, l = fig.get_legend_handles_labels()\n",
    "# h = h[:2] + h[4:] + h[2:3]\n",
    "# l = l[:2] + l[4:] + l[2:3]\n",
    "\n",
    "# plt.legend(h, l, title=\"Accelerator Vendor\")\n",
    "# no touchy!!!!! -> hand-crafted for fontsize to match\n",
    "plt.gcf().set_size_inches(4.1, 2.6)\n",
    "plt.tight_layout()\n",
    "plt.savefig('green500_eff.pdf')"
   ]
  },
  {
   "cell_type": "code",
   "execution_count": null,
   "metadata": {},
   "outputs": [],
   "source": [
    "sn.violinplot(data=df, x=\"Energy Efficiency [GFlops/Watts]\", y='Architecture', hue=\"Accelerator Vendor\"\n",
    "              , inner=\"points\")"
   ]
  },
  {
   "cell_type": "code",
   "execution_count": null,
   "metadata": {},
   "outputs": [],
   "source": [
    "vendor_colors = [\n",
    "    \"#76b900\",\n",
    "    \"#dd0031\",\n",
    "    \"orange\",\n",
    "    \"magenta\",\n",
    "    \"#555\",\n",
    "    \"#0071c5\"\n",
    "]\n",
    "\n",
    "\n",
    "sn.set_theme(style=\"white\")\n",
    "sn.relplot(data=df, x=\"Energy Efficiency [GFlops/Watts]\", y='Year', hue=\"Accelerator Vendor\", size=\"Rpeak [TFlop/s]\", \n",
    "           alpha=.5, palette=vendor_colors, sizes=(40, 200), )"
   ]
  }
 ],
 "metadata": {
  "kernelspec": {
   "display_name": "Python 3 (ipykernel)",
   "language": "python",
   "name": "python3"
  },
  "language_info": {
   "codemirror_mode": {
    "name": "ipython",
    "version": 3
   },
   "file_extension": ".py",
   "mimetype": "text/x-python",
   "name": "python",
   "nbconvert_exporter": "python",
   "pygments_lexer": "ipython3",
   "version": "3.10.9"
  },
  "vscode": {
   "interpreter": {
    "hash": "b8786a0785517a2e1ae430e4c350a1df3510073f087489e9b466377463393362"
   }
  }
 },
 "nbformat": 4,
 "nbformat_minor": 2
}
